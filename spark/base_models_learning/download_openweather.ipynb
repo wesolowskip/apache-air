{
 "cells": [
  {
   "cell_type": "code",
   "execution_count": 1,
   "id": "8b7e2d46",
   "metadata": {},
   "outputs": [],
   "source": [
    "import pandas as pd \n",
    "import numpy as np\n",
    "import requests\n",
    "import os\n",
    "from dotenv import load_dotenv\n",
    "import json\n",
    "import tqdm\n",
    "load_dotenv()\n",
    "\n",
    "API_key = os.getenv('API_key')"
   ]
  },
  {
   "cell_type": "code",
   "execution_count": 2,
   "id": "1564dff5",
   "metadata": {},
   "outputs": [],
   "source": [
    "air_data = pd.read_feather('air_data.feather')"
   ]
  },
  {
   "cell_type": "code",
   "execution_count": 3,
   "id": "9e931e85",
   "metadata": {},
   "outputs": [],
   "source": [
    "air_data = air_data.loc[air_data['lat'] > 0]"
   ]
  },
  {
   "cell_type": "code",
   "execution_count": 4,
   "id": "42434aa4",
   "metadata": {},
   "outputs": [],
   "source": [
    "#mask = ~air_data[[col for col in air_data.columns if 'present' in col or 'future' in col]].isnull().any(axis=1)"
   ]
  },
  {
   "cell_type": "code",
   "execution_count": 5,
   "id": "dff8a6b2",
   "metadata": {},
   "outputs": [],
   "source": [
    "#air_data = air_data.loc[mask]"
   ]
  },
  {
   "cell_type": "code",
   "execution_count": 6,
   "id": "6be2293b",
   "metadata": {},
   "outputs": [],
   "source": [
    "particles = ['NO2', 'O3', 'PM10', 'PM25']"
   ]
  },
  {
   "cell_type": "code",
   "execution_count": 7,
   "id": "e104104e",
   "metadata": {},
   "outputs": [],
   "source": [
    "percentiles = {particle: np.percentile(air_data[f'{particle}_present'], 90) for particle in particles}"
   ]
  },
  {
   "cell_type": "code",
   "execution_count": 8,
   "id": "ddedd4fb",
   "metadata": {},
   "outputs": [],
   "source": [
    "mask = np.zeros((len(air_data), )).astype(bool)\n",
    "for particle in particles: \n",
    "    mask = mask | (air_data[f'{particle}_present'] > percentiles[particle])"
   ]
  },
  {
   "cell_type": "code",
   "execution_count": 9,
   "id": "4435d7a1",
   "metadata": {},
   "outputs": [],
   "source": [
    "#air_data = air_data.loc[mask]"
   ]
  },
  {
   "cell_type": "code",
   "execution_count": 10,
   "id": "6bdf8e5c",
   "metadata": {},
   "outputs": [],
   "source": [
    "#air_data = air_data.sample(49000, replace=False)"
   ]
  },
  {
   "cell_type": "code",
   "execution_count": 11,
   "id": "9f828f32",
   "metadata": {},
   "outputs": [],
   "source": [
    "def return_request(lat, lon, start, end):\n",
    "    return f'https://history.openweathermap.org/data/2.5/history/city?lat={lat}&lon={lon}&type=hour&start={start}&end={end}&appid={API_key}'"
   ]
  },
  {
   "cell_type": "code",
   "execution_count": 12,
   "id": "04829d94",
   "metadata": {},
   "outputs": [],
   "source": [
    "air_data['time_unix_utc'] = air_data['time_unix'] - 3600"
   ]
  },
  {
   "cell_type": "code",
   "execution_count": 13,
   "id": "015c35dd",
   "metadata": {},
   "outputs": [],
   "source": [
    "air_coords = air_data[['lat','lng', 'time_unix_utc']]\\\n",
    "    .groupby(['lat','lng'])\\\n",
    "    .apply(lambda x: sorted(x['time_unix_utc']))\\\n",
    "    .reset_index()\\\n",
    "    .rename({0: 'timestamps'}, axis=1)"
   ]
  },
  {
   "cell_type": "code",
   "execution_count": 14,
   "id": "bdba849b",
   "metadata": {},
   "outputs": [],
   "source": [
    "json_folder = 'jsons'\n",
    "if not os.path.exists(json_folder):\n",
    "    os.mkdir(json_folder)"
   ]
  },
  {
   "cell_type": "code",
   "execution_count": 15,
   "id": "f5213f7f",
   "metadata": {},
   "outputs": [],
   "source": [
    "def write_response(response, lat, lng):\n",
    "    with open(os.path.join(json_folder, f'{lat}_{lng}.json'), 'w') as file: \n",
    "        json.dump(response, file)"
   ]
  },
  {
   "cell_type": "code",
   "execution_count": 16,
   "id": "ce4b9eaf",
   "metadata": {},
   "outputs": [],
   "source": [
    "seconds_in_year = 31_536_000\n",
    "seconds_in_30days = 2_592_000"
   ]
  },
  {
   "cell_type": "code",
   "execution_count": 17,
   "id": "5500a0f4",
   "metadata": {},
   "outputs": [
    {
     "name": "stderr",
     "output_type": "stream",
     "text": [
      "100%|██████████████████████████████████████████████████████████████████████████████| 393/393 [4:32:39<00:00, 41.63s/it]\n"
     ]
    }
   ],
   "source": [
    "months_skipped = []\n",
    "for i, row in tqdm.tqdm(air_coords[['timestamps', 'lat','lng']].iterrows(), total=len(air_coords)):\n",
    "    lat, lng = row['lat'], row['lng']\n",
    "    if os.path.exists(os.path.join(json_folder, f'{lat}_{lng}.json')):\n",
    "        continue\n",
    "    response = {'code': 400000, 'message': 'requested data is out of allowed range'}\n",
    "    months =  0\n",
    "    while ('code' in response and response['code'] == 400000) and min(row['timestamps']) + seconds_in_30days*months < max(row['timestamps']):\n",
    "        request_url = return_request(lat, lng, min(row['timestamps']) + seconds_in_30days*months, max(row['timestamps']))\n",
    "        response = requests.get(request_url).json()\n",
    "        months += 1\n",
    "    response['start'] = min(row['timestamps']) + seconds_in_30days*(months-1)\n",
    "    response['end'] = max(row['timestamps'])\n",
    "    write_response(response, lat, lng)\n",
    "    months_skipped.append(months)"
   ]
  },
  {
   "cell_type": "code",
   "execution_count": 19,
   "id": "c75188c7",
   "metadata": {},
   "outputs": [
    {
     "data": {
      "text/plain": [
       "(array([51., 18., 15., 16.,  6., 15., 71.,  2.,  1., 16.,  2.,  4.,  4.,\n",
       "         0.,  0.,  3.,  1.,  1.,  1.,  7.]),\n",
       " array([ 0.16666667,  1.275     ,  2.38333333,  3.49166667,  4.6       ,\n",
       "         5.70833333,  6.81666667,  7.925     ,  9.03333333, 10.14166667,\n",
       "        11.25      , 12.35833333, 13.46666667, 14.575     , 15.68333333,\n",
       "        16.79166667, 17.9       , 19.00833333, 20.11666667, 21.225     ,\n",
       "        22.33333333]),\n",
       " <BarContainer object of 20 artists>)"
      ]
     },
     "execution_count": 19,
     "metadata": {},
     "output_type": "execute_result"
    },
    {
     "data": {
      "image/png": "[encoded data removed]",
      "text/plain": [
       "<Figure size 640x480 with 1 Axes>"
      ]
     },
     "metadata": {},
     "output_type": "display_data"
    }
   ],
   "source": [
    "from matplotlib import pyplot as plt\n",
    "plt.hist([month/12 for month in months_skipped], bins=20)"
   ]
  }
 ],
 "metadata": {
  "kernelspec": {
   "display_name": "Python 3 (ipykernel)",
   "language": "python",
   "name": "python3"
  },
  "language_info": {
   "codemirror_mode": {
    "name": "ipython",
    "version": 3
   },
   "file_extension": ".py",
   "mimetype": "text/x-python",
   "name": "python",
   "nbconvert_exporter": "python",
   "pygments_lexer": "ipython3",
   "version": "3.9.14"
  }
 },
 "nbformat": 4,
 "nbformat_minor": 5
}
