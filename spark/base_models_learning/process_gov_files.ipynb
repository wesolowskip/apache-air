{
 "cells": [
  {
   "cell_type": "code",
   "execution_count": 162,
   "id": "ba159ab1",
   "metadata": {},
   "outputs": [],
   "source": [
    "import glob \n",
    "import pandas as pd \n",
    "import tqdm \n",
    "import datetime\n",
    "import numpy as np"
   ]
  },
  {
   "cell_type": "code",
   "execution_count": 163,
   "id": "54523379",
   "metadata": {},
   "outputs": [],
   "source": [
    "stations = pd.read_excel('data/Metadane - stacje i stanowiska pomiarowe.xlsx')"
   ]
  },
  {
   "cell_type": "code",
   "execution_count": 164,
   "id": "2433275e",
   "metadata": {},
   "outputs": [],
   "source": [
    "stations = stations.rename({'Kod stacji': 'station_code', \n",
    "                            'Stary Kod stacji': 'old_station_code',\n",
    "                            'WGS84 φ N': 'lat', \n",
    "                            'WGS84 λ E':'lng'}, axis=1)\\\n",
    "    [['station_code', 'old_station_code', 'lat', 'lng']]"
   ]
  },
  {
   "cell_type": "code",
   "execution_count": 165,
   "id": "5b60eb88",
   "metadata": {},
   "outputs": [],
   "source": [
    "stations_codes_unique = set(stations['station_code'].to_list() + stations['old_station_code'].to_list())"
   ]
  },
  {
   "cell_type": "code",
   "execution_count": 166,
   "id": "07e1f0f6",
   "metadata": {},
   "outputs": [],
   "source": [
    "stations['station_id'] = range(len(stations))"
   ]
  },
  {
   "cell_type": "code",
   "execution_count": 167,
   "id": "448c9ae9",
   "metadata": {},
   "outputs": [],
   "source": [
    "stations_code_to_id = dict(zip(stations['station_code'], stations['station_id']))\n",
    "stations_code_to_id.update(dict(zip(stations['old_station_code'], stations['station_id'])))"
   ]
  },
  {
   "cell_type": "code",
   "execution_count": 173,
   "id": "5dcd9641",
   "metadata": {},
   "outputs": [],
   "source": [
    "def process_df(df):\n",
    "    if df.columns[0] == 'Nr': \n",
    "        time_col_first_value = 'Kod stanowiska'\n",
    "        time_col_name = 'Nr'\n",
    "    elif df.values[0, 0] != df.values[0, 0]: \n",
    "        time_col_first_value = 'Czas pomiaru'\n",
    "        time_col_name = 'Unnamed: 0'\n",
    "    else: \n",
    "        time_col_first_value = 'Czas uśredniania'\n",
    "        time_col_name = 'Kod stacji'\n",
    "\n",
    "    try: \n",
    "        df = df.rename({time_col_name: 'time'}, axis=1)\n",
    "        mask = df['time'] == time_col_first_value\n",
    "        if not mask.any(): \n",
    "            print(f\"No '{time_col_first_value}' in df['time'] - skipped: {file}\")\n",
    "        second_col = df.columns[1]\n",
    "        if (isinstance(second_col, str) and second_col.isdigit()) or (isinstance(second_col, int) and df.columns[1] == 1): \n",
    "            df.columns = [df.columns[0]] + list(df.values[0, 1:])\n",
    "        first_row = mask.argmax() + 1\n",
    "        df = df[['time'] + [col for col in df.columns if col in stations_codes_unique]].iloc[first_row:]\n",
    "    except KeyError:\n",
    "        print(f'KeyError - skipped: {file}')\n",
    "        return \n",
    "    df = df.melt(id_vars=['time'], var_name='station_code', value_name=particle)\n",
    "    return df"
   ]
  },
  {
   "cell_type": "code",
   "execution_count": 174,
   "id": "2170bbe1",
   "metadata": {},
   "outputs": [
    {
     "name": "stderr",
     "output_type": "stream",
     "text": [
      " 64%|████████████████████████████████████████████████████▏                             | 14/22 [02:21<01:48, 13.53s/it]c:\\users\\krystian kurek\\.conda\\envs\\nlp\\lib\\site-packages\\openpyxl\\worksheet\\header_footer.py:48: UserWarning: Cannot parse header or footer so it will be ignored\n",
      "  warn(\"\"\"Cannot parse header or footer so it will be ignored\"\"\")\n",
      "100%|██████████████████████████████████████████████████████████████████████████████████| 22/22 [05:18<00:00, 14.47s/it]\n",
      " 64%|████████████████████████████████████████████████████▏                             | 14/22 [01:20<01:00,  7.61s/it]c:\\users\\krystian kurek\\.conda\\envs\\nlp\\lib\\site-packages\\openpyxl\\worksheet\\header_footer.py:48: UserWarning: Cannot parse header or footer so it will be ignored\n",
      "  warn(\"\"\"Cannot parse header or footer so it will be ignored\"\"\")\n",
      "100%|██████████████████████████████████████████████████████████████████████████████████| 22/22 [03:03<00:00,  8.33s/it]\n",
      " 58%|███████████████████████████████████████████████▍                                  | 11/19 [01:39<01:16,  9.61s/it]c:\\users\\krystian kurek\\.conda\\envs\\nlp\\lib\\site-packages\\openpyxl\\worksheet\\header_footer.py:48: UserWarning: Cannot parse header or footer so it will be ignored\n",
      "  warn(\"\"\"Cannot parse header or footer so it will be ignored\"\"\")\n",
      "100%|██████████████████████████████████████████████████████████████████████████████████| 19/19 [03:52<00:00, 12.25s/it]\n",
      "100%|████████████████████████████████████████████████████████████████████████████████████| 6/6 [00:44<00:00,  7.35s/it]\n"
     ]
    }
   ],
   "source": [
    "particles = ['NO2', 'O3', 'PM10', 'PM25']\n",
    "data = []\n",
    "files = []\n",
    "\n",
    "for particle in particles:\n",
    "    files = glob.glob(f'data/*{particle}*1g*')\n",
    "    if particle == 'PM25': \n",
    "        files += glob.glob(f'data/*PM2.5*1g*')\n",
    "    for file in tqdm.tqdm(glob.glob(f'data/*{particle}*1g*')): \n",
    "        df = pd.read_excel(file)\n",
    "        df = process_df(df)\n",
    "        if df is None: \n",
    "            continue\n",
    "        if df.empty: \n",
    "            print(f\"Empty df file - {file}\")\n",
    "        data.append(df)"
   ]
  },
  {
   "cell_type": "code",
   "execution_count": 175,
   "id": "a99ffea6",
   "metadata": {},
   "outputs": [],
   "source": [
    "data = pd.concat(data)"
   ]
  },
  {
   "cell_type": "code",
   "execution_count": 176,
   "id": "4b93f8f3",
   "metadata": {},
   "outputs": [],
   "source": [
    "data_core = data[['time', 'station_code']].drop_duplicates()"
   ]
  },
  {
   "cell_type": "code",
   "execution_count": 177,
   "id": "0d2d5a21",
   "metadata": {},
   "outputs": [],
   "source": [
    "for particle in particles: \n",
    "    data_core = data_core.merge(data[['time', 'station_code', particle]].drop_duplicates().dropna(), how='left')\n",
    "data = data_core\n",
    "del data_core"
   ]
  },
  {
   "cell_type": "code",
   "execution_count": 178,
   "id": "a71715d6",
   "metadata": {},
   "outputs": [
    {
     "data": {
      "text/plain": [
       "time            19058688\n",
       "station_code    19058688\n",
       "NO2             14066798\n",
       "O3               8678028\n",
       "PM10            12518348\n",
       "PM25             3028802\n",
       "dtype: int64"
      ]
     },
     "execution_count": 178,
     "metadata": {},
     "output_type": "execute_result"
    }
   ],
   "source": [
    "data.count()"
   ]
  },
  {
   "cell_type": "code",
   "execution_count": 179,
   "id": "ec894b43",
   "metadata": {},
   "outputs": [
    {
     "data": {
      "text/plain": [
       "(numpy.datetime64('2022-01-01T00:00:00.000000000'),\n",
       " numpy.datetime64('2022-01-01T00:00:00.000000'))"
      ]
     },
     "execution_count": 179,
     "metadata": {},
     "output_type": "execute_result"
    }
   ],
   "source": [
    "def fix_time(time_to_fix): \n",
    "    dt_time_to_fix = datetime.datetime.utcfromtimestamp(time_to_fix.tolist() / 1e9)\n",
    "    if dt_time_to_fix.minute <= 30:\n",
    "        dt_time_to_fix = dt_time_to_fix.replace(minute=0, second=0, microsecond=0)\n",
    "    else: \n",
    "        print(dt_time_to_fix)\n",
    "        dt_time_to_fix = dt_time_to_fix.replace(hour=dt_time_to_fix.hour+1, minute=0, second=0, microsecond=0) \n",
    "    return np.datetime64(dt_time_to_fix)\n",
    "data['time'].values[-1], fix_time(data['time'].values[-1])"
   ]
  },
  {
   "cell_type": "code",
   "execution_count": 180,
   "id": "3caa406d",
   "metadata": {},
   "outputs": [],
   "source": [
    "data['fixed_time'] = [fix_time(time_) for time_ in data['time'].values]"
   ]
  },
  {
   "cell_type": "code",
   "execution_count": 182,
   "id": "1e716ac2",
   "metadata": {},
   "outputs": [
    {
     "data": {
      "text/plain": [
       "Timestamp('2022-01-01 00:00:00')"
      ]
     },
     "execution_count": 182,
     "metadata": {},
     "output_type": "execute_result"
    }
   ],
   "source": [
    "data['fixed_time'].max()"
   ]
  },
  {
   "cell_type": "code",
   "execution_count": 183,
   "id": "17ea9205",
   "metadata": {},
   "outputs": [
    {
     "data": {
      "text/plain": [
       "<AxesSubplot:>"
      ]
     },
     "execution_count": 183,
     "metadata": {},
     "output_type": "execute_result"
    },
    {
     "data": {
      "image/png": "[encoded data removed]",
      "text/plain": [
       "<Figure size 640x480 with 1 Axes>"
      ]
     },
     "metadata": {},
     "output_type": "display_data"
    }
   ],
   "source": [
    "data['fixed_time'].hist()"
   ]
  },
  {
   "cell_type": "code",
   "execution_count": 184,
   "id": "ad05552a",
   "metadata": {},
   "outputs": [],
   "source": [
    "data['time'] = data['fixed_time']"
   ]
  },
  {
   "cell_type": "code",
   "execution_count": 186,
   "id": "3d9894a2",
   "metadata": {},
   "outputs": [],
   "source": [
    "data = data.drop(['fixed_time'], axis=1)"
   ]
  },
  {
   "cell_type": "code",
   "execution_count": 187,
   "id": "bf679d26",
   "metadata": {},
   "outputs": [],
   "source": [
    "data['time_unix'] = data['time'].values.astype('datetime64[s]').astype('int')"
   ]
  },
  {
   "cell_type": "code",
   "execution_count": 188,
   "id": "989323af",
   "metadata": {},
   "outputs": [],
   "source": [
    "data['time_unix_plus_1h'] = data['time_unix'] + 3600"
   ]
  },
  {
   "cell_type": "code",
   "execution_count": 189,
   "id": "f0149fb6",
   "metadata": {},
   "outputs": [],
   "source": [
    "data = data.loc[~data[particles].isnull().all(axis=1)]"
   ]
  },
  {
   "cell_type": "code",
   "execution_count": 190,
   "id": "65659f7a",
   "metadata": {},
   "outputs": [],
   "source": [
    "data = data.drop(['time'], axis=1)"
   ]
  },
  {
   "cell_type": "code",
   "execution_count": 191,
   "id": "4abaaca6",
   "metadata": {},
   "outputs": [],
   "source": [
    "data = data.drop('time_unix_plus_1h', axis=1)\\\n",
    "    .merge(data.drop('time_unix', axis=1), left_on=['time_unix', 'station_code'], right_on=['time_unix_plus_1h', 'station_code'],\n",
    "          suffixes=('_present', '_future'))"
   ]
  },
  {
   "cell_type": "code",
   "execution_count": 192,
   "id": "947ce677",
   "metadata": {},
   "outputs": [],
   "source": [
    "data = data.loc[~data[[f'{particle}_future' for particle in particles]].isnull().all(axis=1)]"
   ]
  },
  {
   "cell_type": "code",
   "execution_count": 193,
   "id": "3e6b7828",
   "metadata": {},
   "outputs": [
    {
     "name": "stdout",
     "output_type": "stream",
     "text": [
      "Particle: NO2 rows:  3611898\n",
      "Particle: O3 rows:  9047492\n",
      "Particle: PM10 rows:  5203466\n",
      "Particle: PM25 rows:  14710688\n"
     ]
    }
   ],
   "source": [
    "for particle in particles: \n",
    "    print(f\"Particle: {particle} rows: \", data[[f'{particle}_present', f'{particle}_future']].isnull().all(axis=1).sum())"
   ]
  },
  {
   "cell_type": "code",
   "execution_count": 194,
   "id": "a989e844",
   "metadata": {},
   "outputs": [],
   "source": [
    "data['station_id'] = data['station_code'].map(stations_code_to_id)"
   ]
  },
  {
   "cell_type": "code",
   "execution_count": 195,
   "id": "3d05da55",
   "metadata": {},
   "outputs": [],
   "source": [
    "data = data.merge(stations[['lat','lng','station_id']])\\\n",
    "    .drop(['station_code', 'station_id'], axis=1)"
   ]
  },
  {
   "cell_type": "code",
   "execution_count": 212,
   "id": "882ee836",
   "metadata": {},
   "outputs": [],
   "source": [
    "for col in data.columns[:4].tolist() + data.columns[5:9].tolist():\n",
    "    data[col] = data[col].apply(lambda x: x.replace(',', '.') if isinstance(x, str) else x).apply(float)"
   ]
  },
  {
   "cell_type": "code",
   "execution_count": 213,
   "id": "21b829a0",
   "metadata": {},
   "outputs": [],
   "source": [
    "data.to_feather('air_data.feather')"
   ]
  }
 ],
 "metadata": {
  "kernelspec": {
   "display_name": "Python 3 (ipykernel)",
   "language": "python",
   "name": "python3"
  },
  "language_info": {
   "codemirror_mode": {
    "name": "ipython",
    "version": 3
   },
   "file_extension": ".py",
   "mimetype": "text/x-python",
   "name": "python",
   "nbconvert_exporter": "python",
   "pygments_lexer": "ipython3",
   "version": "3.9.14"
  }
 },
 "nbformat": 4,
 "nbformat_minor": 5
}
